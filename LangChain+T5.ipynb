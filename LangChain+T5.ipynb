{
  "cells": [
    {
      "cell_type": "code",
      "execution_count": null,
      "metadata": {
        "colab": {
          "base_uri": "https://localhost:8080/"
        },
        "id": "CuYMDvKRzCjn",
        "outputId": "ac60e86c-64c9-4d2f-98d9-a175299b35eb"
      },
      "outputs": [
        {
          "output_type": "stream",
          "name": "stdout",
          "text": [
            "Requirement already satisfied: langchain in /usr/local/lib/python3.10/dist-packages (0.3.4)\n",
            "Requirement already satisfied: PyYAML>=5.3 in /usr/local/lib/python3.10/dist-packages (from langchain) (6.0.2)\n",
            "Requirement already satisfied: SQLAlchemy<3,>=1.4 in /usr/local/lib/python3.10/dist-packages (from langchain) (2.0.36)\n",
            "Requirement already satisfied: aiohttp<4.0.0,>=3.8.3 in /usr/local/lib/python3.10/dist-packages (from langchain) (3.10.10)\n",
            "Requirement already satisfied: async-timeout<5.0.0,>=4.0.0 in /usr/local/lib/python3.10/dist-packages (from langchain) (4.0.3)\n",
            "Requirement already satisfied: langchain-core<0.4.0,>=0.3.12 in /usr/local/lib/python3.10/dist-packages (from langchain) (0.3.13)\n",
            "Requirement already satisfied: langchain-text-splitters<0.4.0,>=0.3.0 in /usr/local/lib/python3.10/dist-packages (from langchain) (0.3.0)\n",
            "Requirement already satisfied: langsmith<0.2.0,>=0.1.17 in /usr/local/lib/python3.10/dist-packages (from langchain) (0.1.137)\n",
            "Requirement already satisfied: numpy<2,>=1 in /usr/local/lib/python3.10/dist-packages (from langchain) (1.26.4)\n",
            "Requirement already satisfied: pydantic<3.0.0,>=2.7.4 in /usr/local/lib/python3.10/dist-packages (from langchain) (2.9.2)\n",
            "Requirement already satisfied: requests<3,>=2 in /usr/local/lib/python3.10/dist-packages (from langchain) (2.32.3)\n",
            "Requirement already satisfied: tenacity!=8.4.0,<10,>=8.1.0 in /usr/local/lib/python3.10/dist-packages (from langchain) (9.0.0)\n",
            "Requirement already satisfied: aiohappyeyeballs>=2.3.0 in /usr/local/lib/python3.10/dist-packages (from aiohttp<4.0.0,>=3.8.3->langchain) (2.4.3)\n",
            "Requirement already satisfied: aiosignal>=1.1.2 in /usr/local/lib/python3.10/dist-packages (from aiohttp<4.0.0,>=3.8.3->langchain) (1.3.1)\n",
            "Requirement already satisfied: attrs>=17.3.0 in /usr/local/lib/python3.10/dist-packages (from aiohttp<4.0.0,>=3.8.3->langchain) (24.2.0)\n",
            "Requirement already satisfied: frozenlist>=1.1.1 in /usr/local/lib/python3.10/dist-packages (from aiohttp<4.0.0,>=3.8.3->langchain) (1.5.0)\n",
            "Requirement already satisfied: multidict<7.0,>=4.5 in /usr/local/lib/python3.10/dist-packages (from aiohttp<4.0.0,>=3.8.3->langchain) (6.1.0)\n",
            "Requirement already satisfied: yarl<2.0,>=1.12.0 in /usr/local/lib/python3.10/dist-packages (from aiohttp<4.0.0,>=3.8.3->langchain) (1.17.0)\n",
            "Requirement already satisfied: jsonpatch<2.0,>=1.33 in /usr/local/lib/python3.10/dist-packages (from langchain-core<0.4.0,>=0.3.12->langchain) (1.33)\n",
            "Requirement already satisfied: packaging<25,>=23.2 in /usr/local/lib/python3.10/dist-packages (from langchain-core<0.4.0,>=0.3.12->langchain) (24.1)\n",
            "Requirement already satisfied: typing-extensions>=4.7 in /usr/local/lib/python3.10/dist-packages (from langchain-core<0.4.0,>=0.3.12->langchain) (4.12.2)\n",
            "Requirement already satisfied: httpx<1,>=0.23.0 in /usr/local/lib/python3.10/dist-packages (from langsmith<0.2.0,>=0.1.17->langchain) (0.27.2)\n",
            "Requirement already satisfied: orjson<4.0.0,>=3.9.14 in /usr/local/lib/python3.10/dist-packages (from langsmith<0.2.0,>=0.1.17->langchain) (3.10.10)\n",
            "Requirement already satisfied: requests-toolbelt<2.0.0,>=1.0.0 in /usr/local/lib/python3.10/dist-packages (from langsmith<0.2.0,>=0.1.17->langchain) (1.0.0)\n",
            "Requirement already satisfied: annotated-types>=0.6.0 in /usr/local/lib/python3.10/dist-packages (from pydantic<3.0.0,>=2.7.4->langchain) (0.7.0)\n",
            "Requirement already satisfied: pydantic-core==2.23.4 in /usr/local/lib/python3.10/dist-packages (from pydantic<3.0.0,>=2.7.4->langchain) (2.23.4)\n",
            "Requirement already satisfied: charset-normalizer<4,>=2 in /usr/local/lib/python3.10/dist-packages (from requests<3,>=2->langchain) (3.4.0)\n",
            "Requirement already satisfied: idna<4,>=2.5 in /usr/local/lib/python3.10/dist-packages (from requests<3,>=2->langchain) (3.10)\n",
            "Requirement already satisfied: urllib3<3,>=1.21.1 in /usr/local/lib/python3.10/dist-packages (from requests<3,>=2->langchain) (2.2.3)\n",
            "Requirement already satisfied: certifi>=2017.4.17 in /usr/local/lib/python3.10/dist-packages (from requests<3,>=2->langchain) (2024.8.30)\n",
            "Requirement already satisfied: greenlet!=0.4.17 in /usr/local/lib/python3.10/dist-packages (from SQLAlchemy<3,>=1.4->langchain) (3.1.1)\n",
            "Requirement already satisfied: anyio in /usr/local/lib/python3.10/dist-packages (from httpx<1,>=0.23.0->langsmith<0.2.0,>=0.1.17->langchain) (3.7.1)\n",
            "Requirement already satisfied: httpcore==1.* in /usr/local/lib/python3.10/dist-packages (from httpx<1,>=0.23.0->langsmith<0.2.0,>=0.1.17->langchain) (1.0.6)\n",
            "Requirement already satisfied: sniffio in /usr/local/lib/python3.10/dist-packages (from httpx<1,>=0.23.0->langsmith<0.2.0,>=0.1.17->langchain) (1.3.1)\n",
            "Requirement already satisfied: h11<0.15,>=0.13 in /usr/local/lib/python3.10/dist-packages (from httpcore==1.*->httpx<1,>=0.23.0->langsmith<0.2.0,>=0.1.17->langchain) (0.14.0)\n",
            "Requirement already satisfied: jsonpointer>=1.9 in /usr/local/lib/python3.10/dist-packages (from jsonpatch<2.0,>=1.33->langchain-core<0.4.0,>=0.3.12->langchain) (3.0.0)\n",
            "Requirement already satisfied: propcache>=0.2.0 in /usr/local/lib/python3.10/dist-packages (from yarl<2.0,>=1.12.0->aiohttp<4.0.0,>=3.8.3->langchain) (0.2.0)\n",
            "Requirement already satisfied: exceptiongroup in /usr/local/lib/python3.10/dist-packages (from anyio->httpx<1,>=0.23.0->langsmith<0.2.0,>=0.1.17->langchain) (1.2.2)\n",
            "Collecting langchain-community\n",
            "  Downloading langchain_community-0.3.5-py3-none-any.whl.metadata (2.9 kB)\n",
            "Requirement already satisfied: PyYAML>=5.3 in /usr/local/lib/python3.10/dist-packages (from langchain-community) (6.0.2)\n",
            "Collecting SQLAlchemy<2.0.36,>=1.4 (from langchain-community)\n",
            "  Downloading SQLAlchemy-2.0.35-cp310-cp310-manylinux_2_17_x86_64.manylinux2014_x86_64.whl.metadata (9.6 kB)\n",
            "Requirement already satisfied: aiohttp<4.0.0,>=3.8.3 in /usr/local/lib/python3.10/dist-packages (from langchain-community) (3.10.10)\n",
            "Collecting dataclasses-json<0.7,>=0.5.7 (from langchain-community)\n",
            "  Downloading dataclasses_json-0.6.7-py3-none-any.whl.metadata (25 kB)\n",
            "Collecting httpx-sse<0.5.0,>=0.4.0 (from langchain-community)\n",
            "  Downloading httpx_sse-0.4.0-py3-none-any.whl.metadata (9.0 kB)\n",
            "Collecting langchain<0.4.0,>=0.3.6 (from langchain-community)\n",
            "  Downloading langchain-0.3.7-py3-none-any.whl.metadata (7.1 kB)\n",
            "Collecting langchain-core<0.4.0,>=0.3.15 (from langchain-community)\n",
            "  Downloading langchain_core-0.3.15-py3-none-any.whl.metadata (6.3 kB)\n",
            "Requirement already satisfied: langsmith<0.2.0,>=0.1.125 in /usr/local/lib/python3.10/dist-packages (from langchain-community) (0.1.137)\n",
            "Requirement already satisfied: numpy<2,>=1 in /usr/local/lib/python3.10/dist-packages (from langchain-community) (1.26.4)\n",
            "Collecting pydantic-settings<3.0.0,>=2.4.0 (from langchain-community)\n",
            "  Downloading pydantic_settings-2.6.1-py3-none-any.whl.metadata (3.5 kB)\n",
            "Requirement already satisfied: requests<3,>=2 in /usr/local/lib/python3.10/dist-packages (from langchain-community) (2.32.3)\n",
            "Requirement already satisfied: tenacity!=8.4.0,<10,>=8.1.0 in /usr/local/lib/python3.10/dist-packages (from langchain-community) (9.0.0)\n",
            "Requirement already satisfied: aiohappyeyeballs>=2.3.0 in /usr/local/lib/python3.10/dist-packages (from aiohttp<4.0.0,>=3.8.3->langchain-community) (2.4.3)\n",
            "Requirement already satisfied: aiosignal>=1.1.2 in /usr/local/lib/python3.10/dist-packages (from aiohttp<4.0.0,>=3.8.3->langchain-community) (1.3.1)\n",
            "Requirement already satisfied: attrs>=17.3.0 in /usr/local/lib/python3.10/dist-packages (from aiohttp<4.0.0,>=3.8.3->langchain-community) (24.2.0)\n",
            "Requirement already satisfied: frozenlist>=1.1.1 in /usr/local/lib/python3.10/dist-packages (from aiohttp<4.0.0,>=3.8.3->langchain-community) (1.5.0)\n",
            "Requirement already satisfied: multidict<7.0,>=4.5 in /usr/local/lib/python3.10/dist-packages (from aiohttp<4.0.0,>=3.8.3->langchain-community) (6.1.0)\n",
            "Requirement already satisfied: yarl<2.0,>=1.12.0 in /usr/local/lib/python3.10/dist-packages (from aiohttp<4.0.0,>=3.8.3->langchain-community) (1.17.0)\n",
            "Requirement already satisfied: async-timeout<5.0,>=4.0 in /usr/local/lib/python3.10/dist-packages (from aiohttp<4.0.0,>=3.8.3->langchain-community) (4.0.3)\n",
            "Collecting marshmallow<4.0.0,>=3.18.0 (from dataclasses-json<0.7,>=0.5.7->langchain-community)\n",
            "  Downloading marshmallow-3.23.1-py3-none-any.whl.metadata (7.5 kB)\n",
            "Collecting typing-inspect<1,>=0.4.0 (from dataclasses-json<0.7,>=0.5.7->langchain-community)\n",
            "  Downloading typing_inspect-0.9.0-py3-none-any.whl.metadata (1.5 kB)\n",
            "Requirement already satisfied: langchain-text-splitters<0.4.0,>=0.3.0 in /usr/local/lib/python3.10/dist-packages (from langchain<0.4.0,>=0.3.6->langchain-community) (0.3.0)\n",
            "Requirement already satisfied: pydantic<3.0.0,>=2.7.4 in /usr/local/lib/python3.10/dist-packages (from langchain<0.4.0,>=0.3.6->langchain-community) (2.9.2)\n",
            "Requirement already satisfied: jsonpatch<2.0,>=1.33 in /usr/local/lib/python3.10/dist-packages (from langchain-core<0.4.0,>=0.3.15->langchain-community) (1.33)\n",
            "Requirement already satisfied: packaging<25,>=23.2 in /usr/local/lib/python3.10/dist-packages (from langchain-core<0.4.0,>=0.3.15->langchain-community) (24.1)\n",
            "Requirement already satisfied: typing-extensions>=4.7 in /usr/local/lib/python3.10/dist-packages (from langchain-core<0.4.0,>=0.3.15->langchain-community) (4.12.2)\n",
            "Requirement already satisfied: httpx<1,>=0.23.0 in /usr/local/lib/python3.10/dist-packages (from langsmith<0.2.0,>=0.1.125->langchain-community) (0.27.2)\n",
            "Requirement already satisfied: orjson<4.0.0,>=3.9.14 in /usr/local/lib/python3.10/dist-packages (from langsmith<0.2.0,>=0.1.125->langchain-community) (3.10.10)\n",
            "Requirement already satisfied: requests-toolbelt<2.0.0,>=1.0.0 in /usr/local/lib/python3.10/dist-packages (from langsmith<0.2.0,>=0.1.125->langchain-community) (1.0.0)\n",
            "Collecting python-dotenv>=0.21.0 (from pydantic-settings<3.0.0,>=2.4.0->langchain-community)\n",
            "  Downloading python_dotenv-1.0.1-py3-none-any.whl.metadata (23 kB)\n",
            "Requirement already satisfied: charset-normalizer<4,>=2 in /usr/local/lib/python3.10/dist-packages (from requests<3,>=2->langchain-community) (3.4.0)\n",
            "Requirement already satisfied: idna<4,>=2.5 in /usr/local/lib/python3.10/dist-packages (from requests<3,>=2->langchain-community) (3.10)\n",
            "Requirement already satisfied: urllib3<3,>=1.21.1 in /usr/local/lib/python3.10/dist-packages (from requests<3,>=2->langchain-community) (2.2.3)\n",
            "Requirement already satisfied: certifi>=2017.4.17 in /usr/local/lib/python3.10/dist-packages (from requests<3,>=2->langchain-community) (2024.8.30)\n",
            "Requirement already satisfied: greenlet!=0.4.17 in /usr/local/lib/python3.10/dist-packages (from SQLAlchemy<2.0.36,>=1.4->langchain-community) (3.1.1)\n",
            "Requirement already satisfied: anyio in /usr/local/lib/python3.10/dist-packages (from httpx<1,>=0.23.0->langsmith<0.2.0,>=0.1.125->langchain-community) (3.7.1)\n",
            "Requirement already satisfied: httpcore==1.* in /usr/local/lib/python3.10/dist-packages (from httpx<1,>=0.23.0->langsmith<0.2.0,>=0.1.125->langchain-community) (1.0.6)\n",
            "Requirement already satisfied: sniffio in /usr/local/lib/python3.10/dist-packages (from httpx<1,>=0.23.0->langsmith<0.2.0,>=0.1.125->langchain-community) (1.3.1)\n",
            "Requirement already satisfied: h11<0.15,>=0.13 in /usr/local/lib/python3.10/dist-packages (from httpcore==1.*->httpx<1,>=0.23.0->langsmith<0.2.0,>=0.1.125->langchain-community) (0.14.0)\n",
            "Requirement already satisfied: jsonpointer>=1.9 in /usr/local/lib/python3.10/dist-packages (from jsonpatch<2.0,>=1.33->langchain-core<0.4.0,>=0.3.15->langchain-community) (3.0.0)\n",
            "Requirement already satisfied: annotated-types>=0.6.0 in /usr/local/lib/python3.10/dist-packages (from pydantic<3.0.0,>=2.7.4->langchain<0.4.0,>=0.3.6->langchain-community) (0.7.0)\n",
            "Requirement already satisfied: pydantic-core==2.23.4 in /usr/local/lib/python3.10/dist-packages (from pydantic<3.0.0,>=2.7.4->langchain<0.4.0,>=0.3.6->langchain-community) (2.23.4)\n",
            "Collecting mypy-extensions>=0.3.0 (from typing-inspect<1,>=0.4.0->dataclasses-json<0.7,>=0.5.7->langchain-community)\n",
            "  Downloading mypy_extensions-1.0.0-py3-none-any.whl.metadata (1.1 kB)\n",
            "Requirement already satisfied: propcache>=0.2.0 in /usr/local/lib/python3.10/dist-packages (from yarl<2.0,>=1.12.0->aiohttp<4.0.0,>=3.8.3->langchain-community) (0.2.0)\n",
            "Requirement already satisfied: exceptiongroup in /usr/local/lib/python3.10/dist-packages (from anyio->httpx<1,>=0.23.0->langsmith<0.2.0,>=0.1.125->langchain-community) (1.2.2)\n",
            "Downloading langchain_community-0.3.5-py3-none-any.whl (2.4 MB)\n",
            "\u001b[2K   \u001b[90m━━━━━━━━━━━━━━━━━━━━━━━━━━━━━━━━━━━━━━━━\u001b[0m \u001b[32m2.4/2.4 MB\u001b[0m \u001b[31m82.5 MB/s\u001b[0m eta \u001b[36m0:00:00\u001b[0m\n",
            "\u001b[?25hDownloading dataclasses_json-0.6.7-py3-none-any.whl (28 kB)\n",
            "Downloading httpx_sse-0.4.0-py3-none-any.whl (7.8 kB)\n",
            "Downloading langchain-0.3.7-py3-none-any.whl (1.0 MB)\n",
            "\u001b[2K   \u001b[90m━━━━━━━━━━━━━━━━━━━━━━━━━━━━━━━━━━━━━━━━\u001b[0m \u001b[32m1.0/1.0 MB\u001b[0m \u001b[31m57.1 MB/s\u001b[0m eta \u001b[36m0:00:00\u001b[0m\n",
            "\u001b[?25hDownloading langchain_core-0.3.15-py3-none-any.whl (408 kB)\n",
            "\u001b[2K   \u001b[90m━━━━━━━━━━━━━━━━━━━━━━━━━━━━━━━━━━━━━━━━\u001b[0m \u001b[32m408.7/408.7 kB\u001b[0m \u001b[31m33.5 MB/s\u001b[0m eta \u001b[36m0:00:00\u001b[0m\n",
            "\u001b[?25hDownloading pydantic_settings-2.6.1-py3-none-any.whl (28 kB)\n",
            "Downloading SQLAlchemy-2.0.35-cp310-cp310-manylinux_2_17_x86_64.manylinux2014_x86_64.whl (3.1 MB)\n",
            "\u001b[2K   \u001b[90m━━━━━━━━━━━━━━━━━━━━━━━━━━━━━━━━━━━━━━━━\u001b[0m \u001b[32m3.1/3.1 MB\u001b[0m \u001b[31m71.1 MB/s\u001b[0m eta \u001b[36m0:00:00\u001b[0m\n",
            "\u001b[?25hDownloading marshmallow-3.23.1-py3-none-any.whl (49 kB)\n",
            "\u001b[2K   \u001b[90m━━━━━━━━━━━━━━━━━━━━━━━━━━━━━━━━━━━━━━━━\u001b[0m \u001b[32m49.5/49.5 kB\u001b[0m \u001b[31m4.2 MB/s\u001b[0m eta \u001b[36m0:00:00\u001b[0m\n",
            "\u001b[?25hDownloading python_dotenv-1.0.1-py3-none-any.whl (19 kB)\n",
            "Downloading typing_inspect-0.9.0-py3-none-any.whl (8.8 kB)\n",
            "Downloading mypy_extensions-1.0.0-py3-none-any.whl (4.7 kB)\n",
            "Installing collected packages: SQLAlchemy, python-dotenv, mypy-extensions, marshmallow, httpx-sse, typing-inspect, pydantic-settings, dataclasses-json, langchain-core, langchain, langchain-community\n",
            "  Attempting uninstall: SQLAlchemy\n",
            "    Found existing installation: SQLAlchemy 2.0.36\n",
            "    Uninstalling SQLAlchemy-2.0.36:\n",
            "      Successfully uninstalled SQLAlchemy-2.0.36\n",
            "  Attempting uninstall: langchain-core\n",
            "    Found existing installation: langchain-core 0.3.13\n",
            "    Uninstalling langchain-core-0.3.13:\n",
            "      Successfully uninstalled langchain-core-0.3.13\n",
            "  Attempting uninstall: langchain\n",
            "    Found existing installation: langchain 0.3.4\n",
            "    Uninstalling langchain-0.3.4:\n",
            "      Successfully uninstalled langchain-0.3.4\n",
            "Successfully installed SQLAlchemy-2.0.35 dataclasses-json-0.6.7 httpx-sse-0.4.0 langchain-0.3.7 langchain-community-0.3.5 langchain-core-0.3.15 marshmallow-3.23.1 mypy-extensions-1.0.0 pydantic-settings-2.6.1 python-dotenv-1.0.1 typing-inspect-0.9.0\n",
            "Collecting pinecone-client\n",
            "  Downloading pinecone_client-5.0.1-py3-none-any.whl.metadata (19 kB)\n",
            "Requirement already satisfied: certifi>=2019.11.17 in /usr/local/lib/python3.10/dist-packages (from pinecone-client) (2024.8.30)\n",
            "Collecting pinecone-plugin-inference<2.0.0,>=1.0.3 (from pinecone-client)\n",
            "  Downloading pinecone_plugin_inference-1.1.0-py3-none-any.whl.metadata (2.2 kB)\n",
            "Collecting pinecone-plugin-interface<0.0.8,>=0.0.7 (from pinecone-client)\n",
            "  Downloading pinecone_plugin_interface-0.0.7-py3-none-any.whl.metadata (1.2 kB)\n",
            "Requirement already satisfied: tqdm>=4.64.1 in /usr/local/lib/python3.10/dist-packages (from pinecone-client) (4.66.6)\n",
            "Requirement already satisfied: typing-extensions>=3.7.4 in /usr/local/lib/python3.10/dist-packages (from pinecone-client) (4.12.2)\n",
            "Requirement already satisfied: urllib3>=1.26.0 in /usr/local/lib/python3.10/dist-packages (from pinecone-client) (2.2.3)\n",
            "Downloading pinecone_client-5.0.1-py3-none-any.whl (244 kB)\n",
            "\u001b[2K   \u001b[90m━━━━━━━━━━━━━━━━━━━━━━━━━━━━━━━━━━━━━━━━\u001b[0m \u001b[32m244.8/244.8 kB\u001b[0m \u001b[31m21.9 MB/s\u001b[0m eta \u001b[36m0:00:00\u001b[0m\n",
            "\u001b[?25hDownloading pinecone_plugin_inference-1.1.0-py3-none-any.whl (85 kB)\n",
            "\u001b[2K   \u001b[90m━━━━━━━━━━━━━━━━━━━━━━━━━━━━━━━━━━━━━━━━\u001b[0m \u001b[32m85.4/85.4 kB\u001b[0m \u001b[31m9.1 MB/s\u001b[0m eta \u001b[36m0:00:00\u001b[0m\n",
            "\u001b[?25hDownloading pinecone_plugin_interface-0.0.7-py3-none-any.whl (6.2 kB)\n",
            "Installing collected packages: pinecone-plugin-interface, pinecone-plugin-inference, pinecone-client\n",
            "Successfully installed pinecone-client-5.0.1 pinecone-plugin-inference-1.1.0 pinecone-plugin-interface-0.0.7\n"
          ]
        }
      ],
      "source": [
        "!pip install langchain\n",
        "!pip install langchain-community\n",
        "!pip install pinecone-client\n",
        "\n"
      ]
    },
    {
      "cell_type": "code",
      "execution_count": null,
      "metadata": {
        "id": "-e6CY7O-8isl"
      },
      "outputs": [],
      "source": [
        "from langchain.document_loaders import CSVLoader\n",
        "from langchain.text_splitter import CharacterTextSplitter\n",
        "\n",
        "from langchain.embeddings import HuggingFaceEmbeddings\n",
        "from langchain.chains.question_answering import load_qa_chain\n",
        "from langchain import HuggingFaceHub\n",
        "\n",
        "from pinecone import Pinecone\n",
        "from pinecone import ServerlessSpec\n",
        "\n",
        "import os\n",
        "\n",
        "import warnings\n",
        "warnings.filterwarnings('ignore')"
      ]
    },
    {
      "cell_type": "code",
      "execution_count": null,
      "metadata": {
        "id": "Lvv2QVjoAlCw"
      },
      "outputs": [],
      "source": [
        "hugging_face_api = 'huggingface_api' #want to use trained model and datasets from huggingface\n",
        "pinecone_api = 'pinecone_api'\n",
        "os.environ[\"HUGGINGFACEHUB_API_TOKEN\"] = hugging_face_api\n",
        "os.environ['PINECONE_API_TOKEN'] = pinecone_api"
      ]
    },
    {
      "cell_type": "code",
      "execution_count": null,
      "metadata": {
        "colab": {
          "base_uri": "https://localhost:8080/"
        },
        "id": "Uq6KPbB3DAYU",
        "outputId": "a62a6b64-4c2f-42f4-e750-53ca30360464"
      },
      "outputs": [
        {
          "output_type": "stream",
          "name": "stdout",
          "text": [
            "[Document(metadata={'source': '/content/drive/MyDrive/LangChainDataset/books_data/books.csv', 'row': 0}, page_content='ISBN;\"Book-Title\";\"Book-Author\";\"Year-Of-Publication\";\"Publisher\";\"Image-URL-S\";\"Image-URL-M\";\"Image-URL-L\": 0195153448;\"Classical Mythology\";\"Mark P. O. Morford\";\"2002\";\"Oxford University Press\";\"http://images.amazon.com/images/P/0195153448.01.THUMBZZZ.jpg\";\"http://images.amazon.com/images/P/0195153448.01.MZZZZZZZ.jpg\";\"http://images.amazon.com/images/P/0195153448.01.LZZZZZZZ.jpg\"'), Document(metadata={'source': '/content/drive/MyDrive/LangChainDataset/books_data/books.csv', 'row': 1}, page_content='ISBN;\"Book-Title\";\"Book-Author\";\"Year-Of-Publication\";\"Publisher\";\"Image-URL-S\";\"Image-URL-M\";\"Image-URL-L\": 0002005018;\"Clara Callan\";\"Richard Bruce Wright\";\"2001\";\"HarperFlamingo Canada\";\"http://images.amazon.com/images/P/0002005018.01.THUMBZZZ.jpg\";\"http://images.amazon.com/images/P/0002005018.01.MZZZZZZZ.jpg\";\"http://images.amazon.com/images/P/0002005018.01.LZZZZZZZ.jpg\"'), Document(metadata={'source': '/content/drive/MyDrive/LangChainDataset/books_data/books.csv', 'row': 2}, page_content='ISBN;\"Book-Title\";\"Book-Author\";\"Year-Of-Publication\";\"Publisher\";\"Image-URL-S\";\"Image-URL-M\";\"Image-URL-L\": 0060973129;\"Decision in Normandy\";\"Carlo D\\'Este\";\"1991\";\"HarperPerennial\";\"http://images.amazon.com/images/P/0060973129.01.THUMBZZZ.jpg\";\"http://images.amazon.com/images/P/0060973129.01.MZZZZZZZ.jpg\";\"http://images.amazon.com/images/P/0060973129.01.LZZZZZZZ.jpg\"'), Document(metadata={'source': '/content/drive/MyDrive/LangChainDataset/books_data/books.csv', 'row': 3}, page_content='ISBN;\"Book-Title\";\"Book-Author\";\"Year-Of-Publication\";\"Publisher\";\"Image-URL-S\";\"Image-URL-M\";\"Image-URL-L\": 0374157065;\"Flu: The Story of the Great Influenza Pandemic of 1918 and the Search for the Virus That Caused It\";\"Gina Bari Kolata\";\"1999\";\"Farrar Straus Giroux\";\"http://images.amazon.com/images/P/0374157065.01.THUMBZZZ.jpg\";\"http://images.amazon.com/images/P/0374157065.01.MZZZZZZZ.jpg\";\"http://images.amazon.com/images/P/0374157065.01.LZZZZZZZ.jpg\"'), Document(metadata={'source': '/content/drive/MyDrive/LangChainDataset/books_data/books.csv', 'row': 4}, page_content='ISBN;\"Book-Title\";\"Book-Author\";\"Year-Of-Publication\";\"Publisher\";\"Image-URL-S\";\"Image-URL-M\";\"Image-URL-L\": 0393045218;\"The Mummies of Urumchi\";\"E. J. W. Barber\";\"1999\";\"W. W. Norton &amp; Company\";\"http://images.amazon.com/images/P/0393045218.01.THUMBZZZ.jpg\";\"http://images.amazon.com/images/P/0393045218.01.MZZZZZZZ.jpg\";\"http://images.amazon.com/images/P/0393045218.01.LZZZZZZZ.jpg\"')]\n"
          ]
        }
      ],
      "source": [
        "import pandas as pd\n",
        "file_path = '/content/drive/MyDrive/LangChainDataset/books_data/books.csv'\n",
        "documents = CSVLoader(file_path, encoding='ISO-8859-1')  # load docs by using csv loader and encode it\n",
        "documents = documents.load()# read data from each row and return as a list of docus (each row is a one doc)\n",
        "print(documents[:5])\n",
        "\n",
        "text_splitter = CharacterTextSplitter(chunk_size=1000, chunk_overlap=0)\n",
        "docs = text_splitter.split_documents(documents)\n"
      ]
    },
    {
      "cell_type": "code",
      "execution_count": null,
      "metadata": {
        "id": "oVcqeJFnDG4_",
        "colab": {
          "base_uri": "https://localhost:8080/"
        },
        "outputId": "2734a456-8f31-4808-ed63-06cd86d84f78"
      },
      "outputs": [
        {
          "output_type": "stream",
          "name": "stdout",
          "text": [
            "Dimensions of embeddings:  768\n",
            "('0', [0.05591369792819023, 0.013298743404448032, -0.04436260461807251, 0.07115311920642853, -0.02017015963792801, 0.06223687157034874, -0.02253447286784649, 0.012157297693192959, -0.06523162126541138, -0.024587251245975494, 0.024844394996762276, 0.05003148317337036, -0.029648711904883385, 0.05613120272755623, -0.06230752915143967, 0.00364079256542027, 0.027569593861699104, 0.02069680206477642, 0.07156318426132202, -0.01605060324072838, -0.09998375177383423, 0.004075629636645317, 0.001826003659516573, -0.05745306611061096, 0.026092765852808952, -0.003170790383592248, -0.01310101430863142, 0.0365825779736042, 0.0039695692248642445, -0.04059067741036415, -0.055810730904340744, -0.008993588387966156, 0.0041031185537576675, 0.0016214149072766304, 1.6835185761010507e-06, -0.0143088698387146, -0.050031762570142746, -0.024328356608748436, 0.029896564781665802, -0.006840182468295097, 0.053198739886283875, 0.031770650297403336, -0.08707490563392639, -0.07209274917840958, -0.00839768536388874, 0.009351516142487526, -0.06308850646018982, 0.07602056115865707, 0.0321456640958786, 0.05240774527192116, 0.005666612181812525, -0.005216276738792658, 0.014405747875571251, 0.002953592222183943, 0.05460216850042343, -0.01656695082783699, -0.004859432112425566, 0.05022755265235901, 0.0015010418137535453, 0.04963052645325661, -0.030537163838744164, 0.05881630629301071, -0.06124487146735191, 0.024571727961301804, -0.007948449812829494, 0.040529415011405945, -0.0009132390259765089, -0.0361485630273819, 0.03993138670921326, -0.029185796156525612, -0.009182806126773357, 0.008140995167195797, 0.018848242238163948, -0.0014613703824579716, -0.06450168043375015, 0.0032252001110464334, -0.03194107487797737, 0.048254240304231644, 0.011735244654119015, 0.0006017089472152293, -0.04465266689658165, 0.00783929880708456, -0.02763231284916401, 0.013464423827826977, 0.018917523324489594, 0.0034105628728866577, -0.05152294039726257, -0.06412719190120697, 0.05981619283556938, -0.005685500334948301, 0.023009713739156723, -0.01138071995228529, 0.020238395780324936, 0.03479332849383354, 0.058141954243183136, -0.029596608132123947, -0.014919123612344265, -0.07646730542182922, 0.019135374575853348, 0.043109308928251266, -0.05776369944214821, -0.08046837151050568, 0.007797801401466131, 0.04617847129702568, -0.006417705211788416, -0.02652665041387081, 0.060729462653398514, 0.011100380681455135, 0.026293033733963966, 0.062420815229415894, -0.009792315773665905, -0.016503721475601196, -0.00913335382938385, -0.06908777356147766, 0.024535683915019035, 0.0001947813289007172, 0.007761302869766951, -0.015252673998475075, -0.01355016976594925, 0.032130055129528046, -0.01158664096146822, -0.02050919458270073, 0.03225823491811752, 0.028123091906309128, 0.015044458210468292, -0.02915770374238491, 0.02272992953658104, 0.0019634487107396126, -0.019843928515911102, 0.03127710893750191, 0.011177381500601768, 0.06520448625087738, 0.09722509235143661, -0.01170238945633173, 0.036848895251750946, 0.055336687713861465, 0.03179202601313591, -0.05068555474281311, -0.01854265294969082, -0.05113273486495018, 0.0006851134239695966, -0.023419825360178947, 0.03678746894001961, 0.03051859885454178, 0.0077698505483567715, 0.0020485874265432358, 0.023823093622922897, 0.009587259031832218, -0.00544122327119112, 0.004695268347859383, -0.09046594053506851, 0.05395758897066116, -0.032303906977176666, 0.020710324868559837, 0.025328321382403374, -0.01372566819190979, -0.07211259007453918, -0.10067475587129593, 0.019177045673131943, 0.010709861293435097, 0.047560904175043106, 0.019557252526283264, 0.0041651478968560696, -0.013911101035773754, -0.03160225972533226, -0.001426735776476562, 0.01115941721946001, -0.0037989101838320494, -0.009604161605238914, 0.020156415179371834, 0.02972288243472576, -0.01938888244330883, 0.011957207694649696, 0.0037198616191744804, 0.0193585604429245, 0.09891197085380554, -0.03805192559957504, 0.01321890577673912, -0.048912469297647476, 0.007942118681967258, 0.029504911974072456, -0.040218908339738846, 0.001386678428389132, -0.032339807599782944, 0.06462577730417252, 0.03236826881766319, -0.0030713544692844152, 0.005472354590892792, 0.05664806813001633, -0.009922879748046398, 0.021552788093686104, 0.0008838757057674229, 0.061059221625328064, -8.278159657493234e-05, -0.007762318477034569, -0.026744099333882332, -0.04830364137887955, -0.0643870159983635, -0.04392555356025696, -0.041881732642650604, 0.04740196093916893, 0.023319711908698082, 0.05972903594374657, -0.05063661187887192, 0.029782133176922798, -0.011942942626774311, -0.0007965319091454148, -0.015423240140080452, -0.0020504139829427004, 0.03574884310364723, -0.06952998787164688, -0.007324756123125553, -0.037002526223659515, -0.023143786936998367, -0.01867215521633625, 0.02306816540658474, -0.019474361091852188, -0.042885951697826385, 0.03430410847067833, -0.005961958784610033, 0.03938375413417816, -0.015423955395817757, -0.0524081327021122, 0.0014267493970692158, -0.04757085070014, -0.003478710539638996, -0.05827109143137932, -0.011412250809371471, -0.0072016362100839615, -0.0027575227431952953, -0.04236234724521637, 0.02703305147588253, 0.07230787724256516, 0.0382167249917984, 0.01370210386812687, 0.022453833371400833, 0.0411740243434906, -0.0021749979350715876, 0.004251525737345219, -0.052037011831998825, -0.03996703773736954, 0.024079428985714912, 0.037119992077350616, 0.013576843775808811, -0.03175406530499458, 0.05342933163046837, -0.05052793771028519, 0.04895087331533432, 0.0027758011128753424, 0.003747424343600869, 0.024433167651295662, -0.006372848991304636, 0.0517616830766201, 0.03450019657611847, -0.026778992265462875, 0.012434017844498158, -0.05593772232532501, 0.00933128036558628, 0.0015600553015246987, -0.016385266557335854, 0.05280466005206108, 0.007630234118551016, -0.0471528097987175, 0.02808123268187046, 0.009514858946204185, -0.006088091526180506, -0.006984872277826071, 0.018008317798376083, -0.05439139902591705, 0.037734612822532654, -0.028935391455888748, -0.01709073781967163, -0.00021983523038215935, -0.005306675098836422, 0.0036129371728748083, -0.038171540945768356, -0.02388404868543148, -0.005741466302424669, 0.007804374676197767, 0.046640846878290176, 0.0068851495161652565, 0.001658867346122861, -0.02820851467549801, 0.017830882221460342, -0.032771676778793335, 0.016764601692557335, 0.00941828265786171, 0.001443596207536757, 0.006276275496929884, 0.025371167808771133, -0.04475533217191696, 0.04282046854496002, 0.02169650048017502, -0.009130608290433884, -0.030485905706882477, 0.007347704842686653, -0.030383851379156113, 0.010950976982712746, 0.036671075969934464, -0.010021166875958443, -0.028312860056757927, -0.017370911315083504, 0.0661483034491539, 0.02176668681204319, -0.0020232766401022673, -0.0010228059254586697, 0.04706057533621788, -0.027642734348773956, 0.04937499761581421, -0.08034445345401764, 0.020961999893188477, 0.0185801200568676, -0.0099180918186903, -0.041677530854940414, 0.010179745964705944, -0.020663604140281677, -0.01734854467213154, -0.04812144860625267, 0.002380130346864462, 0.04872158169746399, -0.006730086635798216, 0.07914623618125916, -0.038675740361213684, 0.04967594891786575, 0.0198796596378088, -0.025534482672810555, 0.010393676348030567, 3.53515351889655e-05, 0.022151317447423935, 0.07487409561872482, 0.05067659541964531, 0.005053012166172266, 0.010218648239970207, -0.055515214800834656, 0.060102034360170364, 0.017606962472200394, -0.003139308886602521, -0.015284723602235317, 0.07145965099334717, 0.006172327324748039, 0.02294466271996498, 0.08100234717130661, 0.04590502008795738, -0.01791105978190899, 0.01047678291797638, -0.03308730572462082, -0.03644206374883652, 0.006719864904880524, -0.07113560289144516, -0.03653382137417793, 0.007479145657271147, 0.04990167170763016, 0.02310774102807045, -0.01302029937505722, 0.0024671340361237526, 0.0791587382555008, -0.00213446537964046, 0.021973716095089912, 0.022154148668050766, -0.025339044630527496, -0.0035891274455934763, 0.05489405244588852, -0.008002026006579399, 0.0036263647489249706, 0.009304857812821865, 0.11035706102848053, -0.07227812707424164, -0.04515162855386734, 0.02827693149447441, -0.031031353399157524, -0.07423838973045349, -0.018936872482299805, 0.022489605471491814, 0.058311767876148224, -0.00812690332531929, 0.003945952747017145, 0.020482249557971954, -0.031520769000053406, -0.13634300231933594, 0.0012060021981596947, 0.007022655103355646, 0.007276930380612612, 0.017302652820944786, 0.0013995022745802999, 0.016502561047673225, 0.015963954851031303, -0.00750579871237278, -0.024101339280605316, -0.006472934037446976, -0.01853465847671032, -0.009471259079873562, 0.03791402652859688, -0.05217311158776283, -0.02779124677181244, -0.037225451320409775, -0.06731488555669785, -0.013955976814031601, 0.019145792350172997, 0.02847512811422348, 0.0038581169210374355, -0.054497040808200836, 0.12986259162425995, -0.002377911005169153, 0.06594595313072205, 0.0029121218249201775, -0.058875299990177155, 0.051454491913318634, 0.06587701290845871, -0.03369363769888878, 0.03350752964615822, 0.017124522477388382, 0.09443428367376328, -0.0015483397291973233, 0.01705022342503071, 0.071143738925457, -0.005166806746274233, -0.014850165694952011, 0.010822106152772903, -0.0324234701693058, -0.06307721883058548, -0.0954546183347702, 0.020431531593203545, 0.030528001487255096, 0.09069513529539108, -0.007987594231963158, -0.030166421085596085, 0.030595283955335617, -0.04114975035190582, 0.017910722643136978, -0.03282783553004265, 0.04786503687500954, -0.02183309569954872, 0.006399826612323523, 0.026351481676101685, 0.03007712960243225, 0.014640435576438904, 0.020461244508624077, -0.010988515801727772, 0.01734129898250103, -0.02538963034749031, -0.020411556586623192, -0.017546478658914566, 0.006311045493930578, 0.007194861304014921, 0.0411980003118515, 0.04942026734352112, -0.025914408266544342, -0.02467762492597103, -0.0426412895321846, 0.004750487860292196, -0.03858933970332146, -0.0017467726720497012, -0.00884711742401123, 0.03402449190616608, 0.016831055283546448, 0.014355912804603577, 0.007469887845218182, 0.023624559864401817, -0.02541329897940159, -0.004376817494630814, -0.042562175542116165, 0.039935559034347534, -0.037701018154621124, 0.025184955447912216, -0.0057306187227368355, -0.07254930585622787, 0.03608054667711258, -0.050960104912519455, 0.005044428166002035, -0.03809066861867905, 0.051574353128671646, -0.029063552618026733, 0.0350460447371006, 0.0015183883951976895, 0.06873069703578949, -0.06001380458474159, -0.02164333686232567, -0.024124152958393097, -0.0014465918065980077, -0.05918239802122116, 0.024285808205604553, -0.016796573996543884, -0.05913810431957245, -0.06865474581718445, 0.008317263796925545, -0.04776296019554138, -0.013227652758359909, -0.033620256930589676, 0.045304495841264725, -0.026262512430548668, -0.014864582568407059, 0.00342538976110518, -0.033590253442525864, 0.0017356753814965487, 0.016467126086354256, 0.020865855738520622, -0.09926042705774307, -0.010613431222736835, 0.022117897868156433, -0.04782972112298012, -0.004029830452054739, -0.07658828794956207, 0.020634494721889496, 0.017204193398356438, -0.009004950523376465, -0.018579958006739616, -0.010726062580943108, -0.04099809005856514, -0.004702716134488583, -0.005815702490508556, -0.037387311458587646, -0.02841433696448803, -0.06939923018217087, 0.03246351704001427, 0.02111799083650112, -0.05782504379749298, -0.029630692675709724, -0.085100457072258, 0.02729463018476963, 0.0031542223878204823, -0.0028615808114409447, 0.00041922935633920133, 0.0028991776052862406, -0.02598193660378456, 0.03125082701444626, -0.0066313124261796474, 0.0010714323725551367, 0.008343995548784733, 0.07028263807296753, 0.040406372398138046, -0.00952966883778572, 0.02364269644021988, 0.04788316786289215, -0.019380779936909676, -0.027181876823306084, 0.07868890464305878, -0.007828268222510815, -0.006083856336772442, 0.03287256136536598, 0.03535483777523041, 0.045911967754364014, -0.031213179230690002, 0.03766294941306114, 0.0060646068304777145, 0.051392391324043274, 0.040573347359895706, -0.035674985498189926, 0.049862589687108994, -0.0018862492870539427, 0.015034090727567673, 0.01713728718459606, 0.033121757209300995, -0.026411384344100952, -0.008031918667256832, 0.03685496747493744, -4.851656772399198e-33, 0.012205958366394043, -0.05215851962566376, -0.0040137567557394505, 0.03181418031454086, 0.024443011730909348, -0.03777630999684334, -0.011938446201384068, -0.036983657628297806, -0.008808906190097332, -0.014625963754951954, -0.017134977504611015, -0.06283837556838989, 0.01977529376745224, -0.023984482511878014, 0.019168611615896225, 0.03766179457306862, -0.014916270039975643, 0.02281004935503006, 0.0005883402191102505, -0.04213467612862587, 0.023708371445536613, 0.021626880392432213, 0.030994700267910957, 0.008379808627068996, 0.008852769620716572, -0.011850554496049881, -0.04555438458919525, -0.04527558758854866, 0.0898432508111, -0.006565785966813564, -0.010807416401803493, -0.015586010180413723, 0.013299456797540188, 0.004844178911298513, -0.0026267580687999725, -0.02805216610431671, -0.07532063126564026, -0.0110123036429286, -0.05222019553184509, 0.028405969962477684, 0.045241642743349075, 0.026038965210318565, 0.028057986870408058, -0.03800391033291817, 0.014238014817237854, -0.0216703861951828, 0.03343992307782173, -0.021441355347633362, -0.02016054280102253, -0.028029225766658783, -0.034917715936899185, -0.015117581933736801, -0.02140112593770027, 0.05640025809407234, 0.04741306230425835, -0.004655216354876757, 0.021881792694330215, 0.09245109558105469, 0.0028350003995001316, -0.0010997193166986108, 0.02002299390733242, 0.007930256426334381, 0.031071091070771217, -0.005828104913234711, 0.02898293174803257, 0.03170762211084366, 0.020644979551434517, 0.031402938067913055, 0.029133109375834465, 0.02336784452199936, 0.003559402422979474, -0.03194458782672882, -0.05839536711573601, 0.023442039266228676, -0.006958587560802698, 0.007327783387154341, -0.009050808846950531, -0.005928085185587406, -0.018599292263388634, 0.0161600261926651, 0.013784850016236305, -0.024158010259270668, 0.025432126596570015, 0.011366961523890495, -0.01918758824467659, -0.05048559233546257, -0.0061002084985375404, -0.009691253304481506, 0.01679815538227558, -0.014141774736344814, -0.06538772583007812, 0.030068229883909225, -0.061922404915094376, 0.003923595417290926, -0.09073344618082047, 0.018409062176942825, -0.09129606932401657, 0.030432408675551414, -0.06501007080078125, -0.06558625400066376, 0.036965254694223404, -0.0019813221879303455, -0.005797292105853558, -0.02168240025639534, 0.020243147388100624, -0.021234290674328804, -0.005123859271407127, -0.010520135052502155, -0.02645205706357956, -0.036753345280885696, 0.02221321314573288, -0.01858202926814556, 0.02860310487449169, 0.05785517022013664, -0.01932838000357151, -0.030676882714033127, -0.01515483669936657, -0.04447853937745094, 0.050229739397764206, -0.0024432821664959192, 0.020384948700666428, -0.042767323553562164, -0.018479427322745323, -0.03966666758060455, -0.007503829896450043, -0.022989396005868912, 0.03425076603889465, -0.02999652922153473, 0.009603632614016533, -0.0285946112126112, -0.004642060026526451, 0.05041823908686638, 2.485022037035378e-07, 0.028523413464426994, 0.03883961960673332, 3.129903052467853e-05, -0.010908919386565685, -0.03753785416483879, 0.012454734183847904, -0.04844241589307785, -0.028278186917304993, -0.040120065212249756, 0.0018007500329986215, 0.013774549588561058, 0.005699541419744492, 0.003403898561373353, -0.0011257192818447948, -0.019710833206772804, -0.0030819608364254236, -0.002306691836565733, -0.015507670119404793, 0.0373750738799572, 0.014497144147753716, 0.051927350461483, 0.00926277320832014, 0.01838606968522072, -0.01121327094733715, -0.023765958845615387, 0.01330561749637127, -0.04198024049401283, -0.0655222088098526, -0.020711764693260193, -0.017927108332514763, -0.017300544306635857, 0.0013110189465805888, -0.044982071965932846, -0.0015389086911454797, -0.0317738875746727, 0.025290613994002342, 0.02619357593357563, -0.0050540766678750515, 0.035180769860744476, 0.026903854683041573, 0.026661425828933716, 0.056956857442855835, 0.04941442608833313, -0.028528494760394096, 0.0006026147748343647, 0.11949951201677322, -0.0236356258392334, -0.03120095655322075, -0.07761749625205994, 0.025231249630451202, -0.010405102744698524, -0.046466223895549774, -0.03227676823735237, 0.008875788189470768, -0.029953893274068832, -0.011056962423026562, 0.0022913452703505754, -0.0367358922958374, 0.016808373853564262, -0.004158805590122938, -0.024860093370079994, 0.008927575312554836, 0.005438638851046562, 0.043564967811107635, 0.07776760309934616, 0.004374471493065357, 0.031017426401376724, 2.5791406757021613e-34, 0.020117707550525665, -0.038524847477674484, 0.02844357118010521, 0.014658143743872643, -0.005539173260331154, -0.006704101804643869, 0.022684328258037567, 0.009716239757835865, -0.0026834355667233467, -0.04583780840039253, 0.002845718991011381])\n"
          ]
        }
      ],
      "source": [
        "import pinecone\n",
        "embeddings = HuggingFaceEmbeddings()  #all-MiniLM-L6-v2\n",
        "print('Dimensions of embeddings: ', len(embeddings.embed_query(\"How are you?\")))\n",
        "pc = Pinecone(api_key=os.environ['PINECONE_API_TOKEN']) #connection of pinecone\n",
        "index_name = 'documentembeddings'\n",
        "\n",
        "\n",
        "\n",
        "if index_name not in pc.list_indexes():\n",
        "  spec = ServerlessSpec(cloud=\"aws\", region=\"us-east-1\")\n",
        "  pc.create_index(\n",
        "          index_name,\n",
        "          dimension=768,  # dimensionality of text-embed-3-small\n",
        "          metric='cosine',\n",
        "          spec=spec\n",
        "      )\n",
        "else:\n",
        "    print(f\"Index '{index_name}' already exists.\")\n",
        "\n",
        "\n",
        "index = pc.Index(index_name) # connection with created index\n",
        "embeds = []\n",
        "for i, doc in enumerate(docs):\n",
        "    embeds.append((str(i), embeddings.embed_query(str(doc))))\n",
        "print(embeds[0])\n",
        "\n"
      ]
    },
    {
      "cell_type": "code",
      "execution_count": null,
      "metadata": {
        "id": "HqszgC3VEFNd"
      },
      "outputs": [],
      "source": [
        "def retrieve_relevant_context(question, index, docs, top_k, embeddings):\n",
        "    question_embedding = embeddings.embed_query(question) # generate embeddings of query\n",
        "    results = index.query(vector=[question_embedding], top_k=top_k, include_metadata=False) # extract relevant documents related to query plus metadata\n",
        "    indices = [int(result.id) for result in results['matches']] # index of the above results\n",
        "    contexts = [docs[i] for i in indices] # exact content of relevant docus\n",
        "    return contexts"
      ]
    },
    {
      "cell_type": "code",
      "execution_count": null,
      "metadata": {
        "id": "Qxt8eh73EhH5",
        "colab": {
          "base_uri": "https://localhost:8080/"
        },
        "outputId": "ca9ccd16-d303-4a62-cf22-90210d1e8a68"
      },
      "outputs": [
        {
          "output_type": "stream",
          "name": "stdout",
          "text": [
            "As per your questionn\n",
            "Question: what is the author of Classical Mythology\n",
            "The answer is\n",
            "Answer: a sage\n"
          ]
        }
      ],
      "source": [
        "llm= HuggingFaceHub(\n",
        "    repo_id=\"google/flan-t5-base\",\n",
        "    model_kwargs={\n",
        "        \"temperature\":0.7,\n",
        "        \"max_length\":512\n",
        "    },\n",
        ")\n",
        "chain = load_qa_chain(llm, chain_type=\"stuff\")\n",
        "\n",
        "question = 'what is the author of Classical Mythology'\n",
        "context = retrieve_relevant_context(question, index, docs, 5, embeddings)\n",
        "answer = chain.run(input_documents=context, question=question)\n",
        "print(f'As per your questionn\\nQuestion: {question}\\nThe answer is\\nAnswer: {answer}')"
      ]
    }
  ],
  "metadata": {
    "colab": {
      "provenance": [],
      "gpuType": "T4"
    },
    "kernelspec": {
      "display_name": "Python 3",
      "name": "python3"
    },
    "language_info": {
      "name": "python"
    },
    "accelerator": "GPU"
  },
  "nbformat": 4,
  "nbformat_minor": 0
}